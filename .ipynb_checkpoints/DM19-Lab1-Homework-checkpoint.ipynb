{
 "cells": [
  {
   "cell_type": "markdown",
   "metadata": {},
   "source": [
    "### Student Information\n",
    "Name:Ratana Pornvattanavichai\n",
    "\n",
    "Student ID:108065437\n",
    "\n",
    "GitHub ID:"
   ]
  },
  {
   "cell_type": "markdown",
   "metadata": {},
   "source": [
    "---"
   ]
  },
  {
   "cell_type": "markdown",
   "metadata": {},
   "source": [
    "### Instructions"
   ]
  },
  {
   "cell_type": "markdown",
   "metadata": {},
   "source": [
    "1. First: do the **take home** exercises in the [DM19-Lab1-Master Repo](https://github.com/EvaArevalo/DM19-Lab1-Master). You may need to copy some cells from the Lab notebook to this notebook. __This part is worth 20% of your grade.__\n",
    "\n",
    "\n",
    "2. Second: follow the same process from the [DM19-Lab1-Master Repo](https://github.com/EvaArevalo/DM19-Lab1-Master) on **the new dataset**. You don't need to explain all details as we did (some **minimal comments** explaining your code are useful though).  __This part is worth 30% of your grade.__\n",
    "    - Download the [the new dataset](https://archive.ics.uci.edu/ml/datasets/Sentiment+Labelled+Sentences#). The dataset contains a `sentence` and `score` label. Read the specificiations of the dataset for details. \n",
    "    - You are allowed to use and modify the `helper` functions in the folder of the first lab session (notice they may need modification) or create your own.\n",
    "\n",
    "\n",
    "3. Third: please attempt the following tasks on **the new dataset**. __This part is worth 30% of your grade.__\n",
    "    - Generate meaningful **new data visualizations**. Refer to online resources and the Data Mining textbook for inspiration and ideas. \n",
    "    - Generate **TF-IDF features** from the tokens of each text. This will generating a document matrix, however, the weights will be computed differently (using the TF-IDF value of each word per document as opposed to the word frequency). Refer to this Sciki-learn [guide](http://scikit-learn.org/stable/modules/generated/sklearn.feature_extraction.text.TfidfVectorizer.html) .\n",
    "    - Implement a simple **Naive Bayes classifier** that automatically classifies the records into their categories. Use both the TF-IDF features and word frequency features to build two seperate classifiers. Comment on the differences.  Refer to this [article](https://hub.packtpub.com/implementing-3-naive-bayes-classifiers-in-scikit-learn/).\n",
    "\n",
    "\n",
    "4. Fourth: In the lab, we applied each step really quickly just to illustrate how to work with your dataset. There are somethings that are not ideal or the most efficient/meaningful. Each dataset can be habdled differently as well. What are those inefficent parts you noticed? How can you improve the Data preprocessing for these specific datasets? __This part is worth 10% of your grade.__\n",
    "\n",
    "\n",
    "5. Fifth: It's hard for us to follow if your code is messy :'(, so please **tidy up your notebook** and **add minimal comments where needed**. __This part is worth 10% of your grade.__\n",
    "\n",
    "\n",
    "You can submit your homework following these guidelines: [Git Intro & How to hand your homework](https://github.com/EvaArevalo/DM19-Lab1-Master/blob/master/Git%20Intro%20%26%20How%20to%20hand%20your%20homework.ipynb). Make sure to commit and save your changes to your repository __BEFORE the deadline (Oct. 29th 11:59 pm, Tuesday)__. "
   ]
  },
  {
   "cell_type": "code",
   "execution_count": 1,
   "metadata": {},
   "outputs": [
    {
     "name": "stdout",
     "output_type": "stream",
     "text": [
      "                                              Sentence  Score\n",
      "0    So there is no way for me to plug it in here i...      0\n",
      "1                          Good case, Excellent value.      1\n",
      "2                               Great for the jawbone.      1\n",
      "3    Tied to charger for conversations lasting more...      0\n",
      "4                                    The mic is great.      1\n",
      "5    I have to jiggle the plug to get it to line up...      0\n",
      "6    If you have several dozen or several hundred c...      0\n",
      "7          If you are Razr owner...you must have this!      1\n",
      "8                  Needless to say, I wasted my money.      0\n",
      "9                     What a waste of money and time!.      0\n",
      "10                     And the sound quality is great.      1\n",
      "11   He was very impressed when going from the orig...      1\n",
      "12   If the two were seperated by a mere 5+ ft I st...      0\n",
      "13                            Very good quality though      1\n",
      "14   The design is very odd, as the ear \"clip\" is n...      0\n",
      "15   Highly recommend for any one who has a blue to...      1\n",
      "16                 I advise EVERYONE DO NOT BE FOOLED!      0\n",
      "17                                    So Far So Good!.      1\n",
      "18                                       Works great!.      1\n",
      "19   It clicks into place in a way that makes you w...      0\n",
      "20   I went on Motorola's website and followed all ...      0\n",
      "21   I bought this to use with my Kindle Fire and a...      1\n",
      "22            The commercials are the most misleading.      0\n",
      "23   I have yet to run this new battery below two b...      1\n",
      "24   I bought it for my mother and she had a proble...      0\n",
      "25                Great Pocket PC / phone combination.      1\n",
      "26   I've owned this phone for 7 months now and can...      1\n",
      "27   I didn't think that the instructions provided ...      0\n",
      "28   People couldnt hear me talk and I had to pull ...      0\n",
      "29                                Doesn't hold charge.      0\n",
      "..                                                 ...    ...\n",
      "970  I plugged it in only to find out not a darn th...      0\n",
      "971                                 Excellent product.      1\n",
      "972                        Earbud piece breaks easily.      0\n",
      "973                                     Lousy product.      0\n",
      "974  This phone tries very hard to do everything bu...      0\n",
      "975  It is the best charger I have seen on the mark...      1\n",
      "976                                  SWEETEST PHONE!!!      1\n",
      "977             :-)Oh, the charger seems to work fine.      1\n",
      "978  It fits so securely that the ear hook does not...      1\n",
      "979                                 Not enough volume.      0\n",
      "980                Echo Problem....Very unsatisfactory      0\n",
      "981  you could only take 2 videos at a time and the...      0\n",
      "982                            don't waste your money.      0\n",
      "983  I am going to have to be the first to negative...      0\n",
      "984  Adapter does not provide enough charging current.      0\n",
      "985  There was so much hype over this phone that I ...      0\n",
      "986  You also cannot take pictures with it in the c...      0\n",
      "987                            Phone falls out easily.      0\n",
      "988  It didn't work, people can not hear me when I ...      0\n",
      "989  The text messaging feature is really tricky to...      0\n",
      "990  I'm really disappointed all I have now is a ch...      0\n",
      "991                                Painful on the ear.      0\n",
      "992                   Lasted one day and then blew up.      0\n",
      "993                                      disappointed.      0\n",
      "994                              Kind of flops around.      0\n",
      "995  The screen does get smudged easily because it ...      0\n",
      "996  What a piece of junk.. I lose more calls on th...      0\n",
      "997                       Item Does Not Match Picture.      0\n",
      "998  The only thing that disappoint me is the infra...      0\n",
      "999  You can not answer calls with the unit, never ...      0\n",
      "\n",
      "[1000 rows x 2 columns]\n",
      "                                              Sentence  Score\n",
      "0    A very, very, very slow-moving, aimless movie ...      0\n",
      "1    Not sure who was more lost - the flat characte...      0\n",
      "2    Attempting artiness with black & white and cle...      0\n",
      "3         Very little music or anything to speak of.        0\n",
      "4    The best scene in the movie was when Gerardo i...      1\n",
      "5    The rest of the movie lacks art, charm, meanin...      0\n",
      "6                                  Wasted two hours.        0\n",
      "7    Saw the movie today and thought it was a good ...      1\n",
      "8                                 A bit predictable.        0\n",
      "9    Loved the casting of Jimmy Buffet as the scien...      1\n",
      "10                And those baby owls were adorable.        1\n",
      "11   The movie showed a lot of Florida at it's best...      1\n",
      "12   The Songs Were The Best And The Muppets Were S...      1\n",
      "13                                   It Was So Cool.        1\n",
      "14   This is a very \"right on case\" movie that deli...      1\n",
      "15   It had some average acting from the main perso...      0\n",
      "16   This review is long overdue, since I consider ...      1\n",
      "17   I'll put this gem up against any movie in term...      1\n",
      "18   It's practically perfect in all of them  a tr...      1\n",
      "19    The structure of this film is easily the most...      0\n",
      "20   This if the first movie I've given a 10 to in ...      1\n",
      "21   If there was ever a movie that needed word-of-...      1\n",
      "22   Overall, the film is interesting and thought-p...      1\n",
      "23   Plus, it was well-paced and suited its relativ...      1\n",
      "24                             Give this one a look.        1\n",
      "25                                    I gave it a 10        1\n",
      "26   The Wind and the Lion is well written and supe...      1\n",
      "27                             It is a true classic.        1\n",
      "28   It actually turned out to be pretty decent as ...      1\n",
      "29                    Definitely worth checking out.        1\n",
      "..                                                 ...    ...\n",
      "718  Enough can not be said of the remarkable anima...      1\n",
      "719  The art style has the appearance of crayon/pen...      1\n",
      "720  If you act in such a film, you should be glad ...      0\n",
      "721  This one wants to surf on the small wave of sp...      0\n",
      "722  If you haven't choked in your own vomit by the...      0\n",
      "723  Still, it makes up for all of this with a supe...      1\n",
      "724  Just consider the excellent story, solid actin...      1\n",
      "725  Instead, we got a bore fest about a whiny, spo...      0\n",
      "726  Then I watched it again two Sundays ago (March...      1\n",
      "727       It is a very well acted and done TV Movie.        1\n",
      "728  Judith Light is one of my favorite actresses a...      1\n",
      "729                I keep watching it over and over.        1\n",
      "730                 It's a sad movie, but very good.        1\n",
      "731  If you have not seen this movie, I definitely ...      1\n",
      "732           She is as lovely as usual, this cutie!        1\n",
      "733  Still it's quite interesting and entertaining ...      1\n",
      "734                    ;) Recommend with confidence!        1\n",
      "735  This movie is well-balanced with comedy and dr...      1\n",
      "736  It was a riot to see Hugo Weaving play a sex-o...      1\n",
      "737  :) Anyway, the plot flowed smoothly and the ma...      1\n",
      "738  The opening sequence of this gem is a classic,...      1\n",
      "739             Fans of the genre will be in heaven.        1\n",
      "740                Lange had become a great actress.        1\n",
      "741                It looked like a wonderful story.        1\n",
      "742            I never walked out of a movie faster.        0\n",
      "743  I just got bored watching Jessice Lange take h...      0\n",
      "744  Unfortunately, any virtue in this film's produ...      0\n",
      "745                   In a word, it is embarrassing.        0\n",
      "746                               Exceptionally bad!        0\n",
      "747  All in all its an insult to one's intelligence...      0\n",
      "\n",
      "[748 rows x 2 columns]\n",
      "                                              Sentence  Score\n",
      "0                             Wow... Loved this place.      1\n",
      "1                                   Crust is not good.      0\n",
      "2            Not tasty and the texture was just nasty.      0\n",
      "3    Stopped by during the late May bank holiday of...      1\n",
      "4    The selection on the menu was great and so wer...      1\n",
      "5       Now I am getting angry and I want my damn pho.      0\n",
      "6                Honeslty it didn't taste THAT fresh.)      0\n",
      "7    The potatoes were like rubber and you could te...      0\n",
      "8                            The fries were great too.      1\n",
      "9                                       A great touch.      1\n",
      "10                            Service was very prompt.      1\n",
      "11                                  Would not go back.      0\n",
      "12   The cashier had no care what so ever on what I...      0\n",
      "13   I tried the Cape Cod ravoli, chicken,with cran...      1\n",
      "14   I was disgusted because I was pretty sure that...      0\n",
      "15   I was shocked because no signs indicate cash o...      0\n",
      "16                                 Highly recommended.      1\n",
      "17              Waitress was a little slow in service.      0\n",
      "18   This place is not worth your time, let alone V...      0\n",
      "19                                did not like at all.      0\n",
      "20                                 The Burrittos Blah!      0\n",
      "21                                  The food, amazing.      1\n",
      "22                               Service is also cute.      1\n",
      "23   I could care less... The interior is just beau...      1\n",
      "24                                  So they performed.      1\n",
      "25   That's right....the red velvet cake.....ohhh t...      1\n",
      "26          - They never brought a salad we asked for.      0\n",
      "27   This hole in the wall has great Mexican street...      1\n",
      "28   Took an hour to get our food only 4 tables in ...      0\n",
      "29                   The worst was the salmon sashimi.      0\n",
      "..                                                 ...    ...\n",
      "970  I immediately said I wanted to talk to the man...      0\n",
      "971                    The ambiance isn't much better.      0\n",
      "972  Unfortunately, it only set us up for disapppoi...      0\n",
      "973                              The food wasn't good.      0\n",
      "974  Your servers suck, wait, correction, our serve...      0\n",
      "975      What happened next was pretty....off putting.      0\n",
      "976  too bad cause I know it's family owned, I real...      0\n",
      "977               Overpriced for what you are getting.      0\n",
      "978               I vomited in the bathroom mid lunch.      0\n",
      "979  I kept looking at the time and it had soon bec...      0\n",
      "980  I have been to very few places to eat that und...      0\n",
      "981  We started with the tuna sashimi which was bro...      0\n",
      "982                            Food was below average.      0\n",
      "983  It sure does beat the nachos at the movies but...      0\n",
      "984       All in all, Ha Long Bay was a bit of a flop.      0\n",
      "985  The problem I have is that they charge $11.99 ...      0\n",
      "986  Shrimp- When I unwrapped it (I live only 1/2 a...      0\n",
      "987     It lacked flavor, seemed undercooked, and dry.      0\n",
      "988  It really is impressive that the place hasn't ...      0\n",
      "989  I would avoid this place if you are staying in...      0\n",
      "990  The refried beans that came with my meal were ...      0\n",
      "991         Spend your money and time some place else.      0\n",
      "992  A lady at the table next to us found a live gr...      0\n",
      "993            the presentation of the food was awful.      0\n",
      "994           I can't tell you how disappointed I was.      0\n",
      "995  I think food should have flavor and texture an...      0\n",
      "996                           Appetite instantly gone.      0\n",
      "997  Overall I was not impressed and would not go b...      0\n",
      "998  The whole experience was underwhelming, and I ...      0\n",
      "999  Then, as if I hadn't wasted enough of my life ...      0\n",
      "\n",
      "[1000 rows x 2 columns]\n"
     ]
    }
   ],
   "source": [
    "# DATA PREPARATION\n",
    "\n",
    "#read all data set and add the columns names\n",
    "import pandas as pd\n",
    "\n",
    "col_Names=[\"Sentence\", \"Score\"]\n",
    "amazon = pd.read_csv (r'D:\\Data mining\\Lab HW\\sentiment labelled sentences\\amazon_cells_labelled.txt', sep='\\t', header=None, names=col_Names)\n",
    "print (amazon)\n",
    "col_Names=[\"Sentence\", \"Score\"]\n",
    "imdb = pd.read_csv (r'D:\\Data mining\\Lab HW\\sentiment labelled sentences\\imdb_labelled.txt', sep='\\t', header=None, names=col_Names)\n",
    "print (imdb)\n",
    "col_Names=[\"Sentence\", \"Score\"]\n",
    "yelp = pd.read_csv (r'D:\\Data mining\\Lab HW\\sentiment labelled sentences\\yelp_labelled.txt', sep='\\t', header=None, names=col_Names)\n",
    "print (yelp)"
   ]
  },
  {
   "cell_type": "code",
   "execution_count": 2,
   "metadata": {},
   "outputs": [
    {
     "data": {
      "text/html": [
       "<div>\n",
       "<style scoped>\n",
       "    .dataframe tbody tr th:only-of-type {\n",
       "        vertical-align: middle;\n",
       "    }\n",
       "\n",
       "    .dataframe tbody tr th {\n",
       "        vertical-align: top;\n",
       "    }\n",
       "\n",
       "    .dataframe thead th {\n",
       "        text-align: right;\n",
       "    }\n",
       "</style>\n",
       "<table border=\"1\" class=\"dataframe\">\n",
       "  <thead>\n",
       "    <tr style=\"text-align: right;\">\n",
       "      <th></th>\n",
       "      <th>Sentence</th>\n",
       "      <th>Score</th>\n",
       "      <th>Website</th>\n",
       "    </tr>\n",
       "  </thead>\n",
       "  <tbody>\n",
       "    <tr>\n",
       "      <th>0</th>\n",
       "      <td>Wow... Loved this place.</td>\n",
       "      <td>1</td>\n",
       "      <td>Yelp</td>\n",
       "    </tr>\n",
       "    <tr>\n",
       "      <th>1</th>\n",
       "      <td>Crust is not good.</td>\n",
       "      <td>0</td>\n",
       "      <td>Yelp</td>\n",
       "    </tr>\n",
       "    <tr>\n",
       "      <th>2</th>\n",
       "      <td>Not tasty and the texture was just nasty.</td>\n",
       "      <td>0</td>\n",
       "      <td>Yelp</td>\n",
       "    </tr>\n",
       "    <tr>\n",
       "      <th>3</th>\n",
       "      <td>Stopped by during the late May bank holiday of...</td>\n",
       "      <td>1</td>\n",
       "      <td>Yelp</td>\n",
       "    </tr>\n",
       "    <tr>\n",
       "      <th>4</th>\n",
       "      <td>The selection on the menu was great and so wer...</td>\n",
       "      <td>1</td>\n",
       "      <td>Yelp</td>\n",
       "    </tr>\n",
       "  </tbody>\n",
       "</table>\n",
       "</div>"
      ],
      "text/plain": [
       "                                            Sentence  Score Website\n",
       "0                           Wow... Loved this place.      1    Yelp\n",
       "1                                 Crust is not good.      0    Yelp\n",
       "2          Not tasty and the texture was just nasty.      0    Yelp\n",
       "3  Stopped by during the late May bank holiday of...      1    Yelp\n",
       "4  The selection on the menu was great and so wer...      1    Yelp"
      ]
     },
     "execution_count": 2,
     "metadata": {},
     "output_type": "execute_result"
    }
   ],
   "source": [
    "#add column for websites they came from\n",
    "amazon.insert(2, \"Website\", \"Amazon\") \n",
    "imdb.insert(2, \"Website\", \"Imdb\") \n",
    "yelp.insert(2, \"Website\", \"Yelp\") \n",
    "#print to preview the result\n",
    "amazon.head() \n",
    "imdb.head() \n",
    "yelp.head() "
   ]
  },
  {
   "cell_type": "code",
   "execution_count": 3,
   "metadata": {
    "scrolled": true
   },
   "outputs": [],
   "source": [
    "#combine all the three files together by using concatenate\n",
    "data_score = pd.concat([amazon,imdb,yelp])"
   ]
  },
  {
   "cell_type": "code",
   "execution_count": 4,
   "metadata": {},
   "outputs": [
    {
     "name": "stdout",
     "output_type": "stream",
     "text": [
      "                                              Sentence  Score Website\n",
      "0    So there is no way for me to plug it in here i...      0  Amazon\n",
      "1                          Good case, Excellent value.      1  Amazon\n",
      "2                               Great for the jawbone.      1  Amazon\n",
      "3    Tied to charger for conversations lasting more...      0  Amazon\n",
      "4                                    The mic is great.      1  Amazon\n",
      "5    I have to jiggle the plug to get it to line up...      0  Amazon\n",
      "6    If you have several dozen or several hundred c...      0  Amazon\n",
      "7          If you are Razr owner...you must have this!      1  Amazon\n",
      "8                  Needless to say, I wasted my money.      0  Amazon\n",
      "9                     What a waste of money and time!.      0  Amazon\n",
      "10                     And the sound quality is great.      1  Amazon\n",
      "11   He was very impressed when going from the orig...      1  Amazon\n",
      "12   If the two were seperated by a mere 5+ ft I st...      0  Amazon\n",
      "13                            Very good quality though      1  Amazon\n",
      "14   The design is very odd, as the ear \"clip\" is n...      0  Amazon\n",
      "15   Highly recommend for any one who has a blue to...      1  Amazon\n",
      "16                 I advise EVERYONE DO NOT BE FOOLED!      0  Amazon\n",
      "17                                    So Far So Good!.      1  Amazon\n",
      "18                                       Works great!.      1  Amazon\n",
      "19   It clicks into place in a way that makes you w...      0  Amazon\n",
      "20   I went on Motorola's website and followed all ...      0  Amazon\n",
      "21   I bought this to use with my Kindle Fire and a...      1  Amazon\n",
      "22            The commercials are the most misleading.      0  Amazon\n",
      "23   I have yet to run this new battery below two b...      1  Amazon\n",
      "24   I bought it for my mother and she had a proble...      0  Amazon\n",
      "25                Great Pocket PC / phone combination.      1  Amazon\n",
      "26   I've owned this phone for 7 months now and can...      1  Amazon\n",
      "27   I didn't think that the instructions provided ...      0  Amazon\n",
      "28   People couldnt hear me talk and I had to pull ...      0  Amazon\n",
      "29                                Doesn't hold charge.      0  Amazon\n",
      "..                                                 ...    ...     ...\n",
      "970  I immediately said I wanted to talk to the man...      0    Yelp\n",
      "971                    The ambiance isn't much better.      0    Yelp\n",
      "972  Unfortunately, it only set us up for disapppoi...      0    Yelp\n",
      "973                              The food wasn't good.      0    Yelp\n",
      "974  Your servers suck, wait, correction, our serve...      0    Yelp\n",
      "975      What happened next was pretty....off putting.      0    Yelp\n",
      "976  too bad cause I know it's family owned, I real...      0    Yelp\n",
      "977               Overpriced for what you are getting.      0    Yelp\n",
      "978               I vomited in the bathroom mid lunch.      0    Yelp\n",
      "979  I kept looking at the time and it had soon bec...      0    Yelp\n",
      "980  I have been to very few places to eat that und...      0    Yelp\n",
      "981  We started with the tuna sashimi which was bro...      0    Yelp\n",
      "982                            Food was below average.      0    Yelp\n",
      "983  It sure does beat the nachos at the movies but...      0    Yelp\n",
      "984       All in all, Ha Long Bay was a bit of a flop.      0    Yelp\n",
      "985  The problem I have is that they charge $11.99 ...      0    Yelp\n",
      "986  Shrimp- When I unwrapped it (I live only 1/2 a...      0    Yelp\n",
      "987     It lacked flavor, seemed undercooked, and dry.      0    Yelp\n",
      "988  It really is impressive that the place hasn't ...      0    Yelp\n",
      "989  I would avoid this place if you are staying in...      0    Yelp\n",
      "990  The refried beans that came with my meal were ...      0    Yelp\n",
      "991         Spend your money and time some place else.      0    Yelp\n",
      "992  A lady at the table next to us found a live gr...      0    Yelp\n",
      "993            the presentation of the food was awful.      0    Yelp\n",
      "994           I can't tell you how disappointed I was.      0    Yelp\n",
      "995  I think food should have flavor and texture an...      0    Yelp\n",
      "996                           Appetite instantly gone.      0    Yelp\n",
      "997  Overall I was not impressed and would not go b...      0    Yelp\n",
      "998  The whole experience was underwhelming, and I ...      0    Yelp\n",
      "999  Then, as if I hadn't wasted enough of my life ...      0    Yelp\n",
      "\n",
      "[2748 rows x 3 columns]\n"
     ]
    }
   ],
   "source": [
    "#print the result of the three files\n",
    "print (data_score)"
   ]
  },
  {
   "cell_type": "code",
   "execution_count": 5,
   "metadata": {},
   "outputs": [
    {
     "data": {
      "text/html": [
       "<div>\n",
       "<style scoped>\n",
       "    .dataframe tbody tr th:only-of-type {\n",
       "        vertical-align: middle;\n",
       "    }\n",
       "\n",
       "    .dataframe tbody tr th {\n",
       "        vertical-align: top;\n",
       "    }\n",
       "\n",
       "    .dataframe thead th {\n",
       "        text-align: right;\n",
       "    }\n",
       "</style>\n",
       "<table border=\"1\" class=\"dataframe\">\n",
       "  <thead>\n",
       "    <tr style=\"text-align: right;\">\n",
       "      <th></th>\n",
       "      <th>Sentence</th>\n",
       "      <th>Score</th>\n",
       "      <th>Website</th>\n",
       "    </tr>\n",
       "  </thead>\n",
       "  <tbody>\n",
       "    <tr>\n",
       "      <th>0</th>\n",
       "      <td>So there is no way for me to plug it in here i...</td>\n",
       "      <td>0</td>\n",
       "      <td>Amazon</td>\n",
       "    </tr>\n",
       "    <tr>\n",
       "      <th>1</th>\n",
       "      <td>Good case, Excellent value.</td>\n",
       "      <td>1</td>\n",
       "      <td>Amazon</td>\n",
       "    </tr>\n",
       "    <tr>\n",
       "      <th>2</th>\n",
       "      <td>Great for the jawbone.</td>\n",
       "      <td>1</td>\n",
       "      <td>Amazon</td>\n",
       "    </tr>\n",
       "    <tr>\n",
       "      <th>3</th>\n",
       "      <td>Tied to charger for conversations lasting more...</td>\n",
       "      <td>0</td>\n",
       "      <td>Amazon</td>\n",
       "    </tr>\n",
       "    <tr>\n",
       "      <th>4</th>\n",
       "      <td>The mic is great.</td>\n",
       "      <td>1</td>\n",
       "      <td>Amazon</td>\n",
       "    </tr>\n",
       "    <tr>\n",
       "      <th>5</th>\n",
       "      <td>I have to jiggle the plug to get it to line up...</td>\n",
       "      <td>0</td>\n",
       "      <td>Amazon</td>\n",
       "    </tr>\n",
       "    <tr>\n",
       "      <th>6</th>\n",
       "      <td>If you have several dozen or several hundred c...</td>\n",
       "      <td>0</td>\n",
       "      <td>Amazon</td>\n",
       "    </tr>\n",
       "    <tr>\n",
       "      <th>7</th>\n",
       "      <td>If you are Razr owner...you must have this!</td>\n",
       "      <td>1</td>\n",
       "      <td>Amazon</td>\n",
       "    </tr>\n",
       "    <tr>\n",
       "      <th>8</th>\n",
       "      <td>Needless to say, I wasted my money.</td>\n",
       "      <td>0</td>\n",
       "      <td>Amazon</td>\n",
       "    </tr>\n",
       "    <tr>\n",
       "      <th>9</th>\n",
       "      <td>What a waste of money and time!.</td>\n",
       "      <td>0</td>\n",
       "      <td>Amazon</td>\n",
       "    </tr>\n",
       "    <tr>\n",
       "      <th>10</th>\n",
       "      <td>And the sound quality is great.</td>\n",
       "      <td>1</td>\n",
       "      <td>Amazon</td>\n",
       "    </tr>\n",
       "    <tr>\n",
       "      <th>11</th>\n",
       "      <td>He was very impressed when going from the orig...</td>\n",
       "      <td>1</td>\n",
       "      <td>Amazon</td>\n",
       "    </tr>\n",
       "    <tr>\n",
       "      <th>12</th>\n",
       "      <td>If the two were seperated by a mere 5+ ft I st...</td>\n",
       "      <td>0</td>\n",
       "      <td>Amazon</td>\n",
       "    </tr>\n",
       "    <tr>\n",
       "      <th>13</th>\n",
       "      <td>Very good quality though</td>\n",
       "      <td>1</td>\n",
       "      <td>Amazon</td>\n",
       "    </tr>\n",
       "    <tr>\n",
       "      <th>14</th>\n",
       "      <td>The design is very odd, as the ear \"clip\" is n...</td>\n",
       "      <td>0</td>\n",
       "      <td>Amazon</td>\n",
       "    </tr>\n",
       "    <tr>\n",
       "      <th>15</th>\n",
       "      <td>Highly recommend for any one who has a blue to...</td>\n",
       "      <td>1</td>\n",
       "      <td>Amazon</td>\n",
       "    </tr>\n",
       "    <tr>\n",
       "      <th>16</th>\n",
       "      <td>I advise EVERYONE DO NOT BE FOOLED!</td>\n",
       "      <td>0</td>\n",
       "      <td>Amazon</td>\n",
       "    </tr>\n",
       "    <tr>\n",
       "      <th>17</th>\n",
       "      <td>So Far So Good!.</td>\n",
       "      <td>1</td>\n",
       "      <td>Amazon</td>\n",
       "    </tr>\n",
       "    <tr>\n",
       "      <th>18</th>\n",
       "      <td>Works great!.</td>\n",
       "      <td>1</td>\n",
       "      <td>Amazon</td>\n",
       "    </tr>\n",
       "    <tr>\n",
       "      <th>19</th>\n",
       "      <td>It clicks into place in a way that makes you w...</td>\n",
       "      <td>0</td>\n",
       "      <td>Amazon</td>\n",
       "    </tr>\n",
       "    <tr>\n",
       "      <th>20</th>\n",
       "      <td>I went on Motorola's website and followed all ...</td>\n",
       "      <td>0</td>\n",
       "      <td>Amazon</td>\n",
       "    </tr>\n",
       "    <tr>\n",
       "      <th>21</th>\n",
       "      <td>I bought this to use with my Kindle Fire and a...</td>\n",
       "      <td>1</td>\n",
       "      <td>Amazon</td>\n",
       "    </tr>\n",
       "    <tr>\n",
       "      <th>22</th>\n",
       "      <td>The commercials are the most misleading.</td>\n",
       "      <td>0</td>\n",
       "      <td>Amazon</td>\n",
       "    </tr>\n",
       "    <tr>\n",
       "      <th>23</th>\n",
       "      <td>I have yet to run this new battery below two b...</td>\n",
       "      <td>1</td>\n",
       "      <td>Amazon</td>\n",
       "    </tr>\n",
       "    <tr>\n",
       "      <th>24</th>\n",
       "      <td>I bought it for my mother and she had a proble...</td>\n",
       "      <td>0</td>\n",
       "      <td>Amazon</td>\n",
       "    </tr>\n",
       "    <tr>\n",
       "      <th>25</th>\n",
       "      <td>Great Pocket PC / phone combination.</td>\n",
       "      <td>1</td>\n",
       "      <td>Amazon</td>\n",
       "    </tr>\n",
       "    <tr>\n",
       "      <th>26</th>\n",
       "      <td>I've owned this phone for 7 months now and can...</td>\n",
       "      <td>1</td>\n",
       "      <td>Amazon</td>\n",
       "    </tr>\n",
       "    <tr>\n",
       "      <th>27</th>\n",
       "      <td>I didn't think that the instructions provided ...</td>\n",
       "      <td>0</td>\n",
       "      <td>Amazon</td>\n",
       "    </tr>\n",
       "    <tr>\n",
       "      <th>28</th>\n",
       "      <td>People couldnt hear me talk and I had to pull ...</td>\n",
       "      <td>0</td>\n",
       "      <td>Amazon</td>\n",
       "    </tr>\n",
       "    <tr>\n",
       "      <th>29</th>\n",
       "      <td>Doesn't hold charge.</td>\n",
       "      <td>0</td>\n",
       "      <td>Amazon</td>\n",
       "    </tr>\n",
       "    <tr>\n",
       "      <th>...</th>\n",
       "      <td>...</td>\n",
       "      <td>...</td>\n",
       "      <td>...</td>\n",
       "    </tr>\n",
       "    <tr>\n",
       "      <th>970</th>\n",
       "      <td>I immediately said I wanted to talk to the man...</td>\n",
       "      <td>0</td>\n",
       "      <td>Yelp</td>\n",
       "    </tr>\n",
       "    <tr>\n",
       "      <th>971</th>\n",
       "      <td>The ambiance isn't much better.</td>\n",
       "      <td>0</td>\n",
       "      <td>Yelp</td>\n",
       "    </tr>\n",
       "    <tr>\n",
       "      <th>972</th>\n",
       "      <td>Unfortunately, it only set us up for disapppoi...</td>\n",
       "      <td>0</td>\n",
       "      <td>Yelp</td>\n",
       "    </tr>\n",
       "    <tr>\n",
       "      <th>973</th>\n",
       "      <td>The food wasn't good.</td>\n",
       "      <td>0</td>\n",
       "      <td>Yelp</td>\n",
       "    </tr>\n",
       "    <tr>\n",
       "      <th>974</th>\n",
       "      <td>Your servers suck, wait, correction, our serve...</td>\n",
       "      <td>0</td>\n",
       "      <td>Yelp</td>\n",
       "    </tr>\n",
       "    <tr>\n",
       "      <th>975</th>\n",
       "      <td>What happened next was pretty....off putting.</td>\n",
       "      <td>0</td>\n",
       "      <td>Yelp</td>\n",
       "    </tr>\n",
       "    <tr>\n",
       "      <th>976</th>\n",
       "      <td>too bad cause I know it's family owned, I real...</td>\n",
       "      <td>0</td>\n",
       "      <td>Yelp</td>\n",
       "    </tr>\n",
       "    <tr>\n",
       "      <th>977</th>\n",
       "      <td>Overpriced for what you are getting.</td>\n",
       "      <td>0</td>\n",
       "      <td>Yelp</td>\n",
       "    </tr>\n",
       "    <tr>\n",
       "      <th>978</th>\n",
       "      <td>I vomited in the bathroom mid lunch.</td>\n",
       "      <td>0</td>\n",
       "      <td>Yelp</td>\n",
       "    </tr>\n",
       "    <tr>\n",
       "      <th>979</th>\n",
       "      <td>I kept looking at the time and it had soon bec...</td>\n",
       "      <td>0</td>\n",
       "      <td>Yelp</td>\n",
       "    </tr>\n",
       "    <tr>\n",
       "      <th>980</th>\n",
       "      <td>I have been to very few places to eat that und...</td>\n",
       "      <td>0</td>\n",
       "      <td>Yelp</td>\n",
       "    </tr>\n",
       "    <tr>\n",
       "      <th>981</th>\n",
       "      <td>We started with the tuna sashimi which was bro...</td>\n",
       "      <td>0</td>\n",
       "      <td>Yelp</td>\n",
       "    </tr>\n",
       "    <tr>\n",
       "      <th>982</th>\n",
       "      <td>Food was below average.</td>\n",
       "      <td>0</td>\n",
       "      <td>Yelp</td>\n",
       "    </tr>\n",
       "    <tr>\n",
       "      <th>983</th>\n",
       "      <td>It sure does beat the nachos at the movies but...</td>\n",
       "      <td>0</td>\n",
       "      <td>Yelp</td>\n",
       "    </tr>\n",
       "    <tr>\n",
       "      <th>984</th>\n",
       "      <td>All in all, Ha Long Bay was a bit of a flop.</td>\n",
       "      <td>0</td>\n",
       "      <td>Yelp</td>\n",
       "    </tr>\n",
       "    <tr>\n",
       "      <th>985</th>\n",
       "      <td>The problem I have is that they charge $11.99 ...</td>\n",
       "      <td>0</td>\n",
       "      <td>Yelp</td>\n",
       "    </tr>\n",
       "    <tr>\n",
       "      <th>986</th>\n",
       "      <td>Shrimp- When I unwrapped it (I live only 1/2 a...</td>\n",
       "      <td>0</td>\n",
       "      <td>Yelp</td>\n",
       "    </tr>\n",
       "    <tr>\n",
       "      <th>987</th>\n",
       "      <td>It lacked flavor, seemed undercooked, and dry.</td>\n",
       "      <td>0</td>\n",
       "      <td>Yelp</td>\n",
       "    </tr>\n",
       "    <tr>\n",
       "      <th>988</th>\n",
       "      <td>It really is impressive that the place hasn't ...</td>\n",
       "      <td>0</td>\n",
       "      <td>Yelp</td>\n",
       "    </tr>\n",
       "    <tr>\n",
       "      <th>989</th>\n",
       "      <td>I would avoid this place if you are staying in...</td>\n",
       "      <td>0</td>\n",
       "      <td>Yelp</td>\n",
       "    </tr>\n",
       "    <tr>\n",
       "      <th>990</th>\n",
       "      <td>The refried beans that came with my meal were ...</td>\n",
       "      <td>0</td>\n",
       "      <td>Yelp</td>\n",
       "    </tr>\n",
       "    <tr>\n",
       "      <th>991</th>\n",
       "      <td>Spend your money and time some place else.</td>\n",
       "      <td>0</td>\n",
       "      <td>Yelp</td>\n",
       "    </tr>\n",
       "    <tr>\n",
       "      <th>992</th>\n",
       "      <td>A lady at the table next to us found a live gr...</td>\n",
       "      <td>0</td>\n",
       "      <td>Yelp</td>\n",
       "    </tr>\n",
       "    <tr>\n",
       "      <th>993</th>\n",
       "      <td>the presentation of the food was awful.</td>\n",
       "      <td>0</td>\n",
       "      <td>Yelp</td>\n",
       "    </tr>\n",
       "    <tr>\n",
       "      <th>994</th>\n",
       "      <td>I can't tell you how disappointed I was.</td>\n",
       "      <td>0</td>\n",
       "      <td>Yelp</td>\n",
       "    </tr>\n",
       "    <tr>\n",
       "      <th>995</th>\n",
       "      <td>I think food should have flavor and texture an...</td>\n",
       "      <td>0</td>\n",
       "      <td>Yelp</td>\n",
       "    </tr>\n",
       "    <tr>\n",
       "      <th>996</th>\n",
       "      <td>Appetite instantly gone.</td>\n",
       "      <td>0</td>\n",
       "      <td>Yelp</td>\n",
       "    </tr>\n",
       "    <tr>\n",
       "      <th>997</th>\n",
       "      <td>Overall I was not impressed and would not go b...</td>\n",
       "      <td>0</td>\n",
       "      <td>Yelp</td>\n",
       "    </tr>\n",
       "    <tr>\n",
       "      <th>998</th>\n",
       "      <td>The whole experience was underwhelming, and I ...</td>\n",
       "      <td>0</td>\n",
       "      <td>Yelp</td>\n",
       "    </tr>\n",
       "    <tr>\n",
       "      <th>999</th>\n",
       "      <td>Then, as if I hadn't wasted enough of my life ...</td>\n",
       "      <td>0</td>\n",
       "      <td>Yelp</td>\n",
       "    </tr>\n",
       "  </tbody>\n",
       "</table>\n",
       "<p>2748 rows × 3 columns</p>\n",
       "</div>"
      ],
      "text/plain": [
       "                                              Sentence Score Website\n",
       "0    So there is no way for me to plug it in here i...     0  Amazon\n",
       "1                          Good case, Excellent value.     1  Amazon\n",
       "2                               Great for the jawbone.     1  Amazon\n",
       "3    Tied to charger for conversations lasting more...     0  Amazon\n",
       "4                                    The mic is great.     1  Amazon\n",
       "5    I have to jiggle the plug to get it to line up...     0  Amazon\n",
       "6    If you have several dozen or several hundred c...     0  Amazon\n",
       "7          If you are Razr owner...you must have this!     1  Amazon\n",
       "8                  Needless to say, I wasted my money.     0  Amazon\n",
       "9                     What a waste of money and time!.     0  Amazon\n",
       "10                     And the sound quality is great.     1  Amazon\n",
       "11   He was very impressed when going from the orig...     1  Amazon\n",
       "12   If the two were seperated by a mere 5+ ft I st...     0  Amazon\n",
       "13                            Very good quality though     1  Amazon\n",
       "14   The design is very odd, as the ear \"clip\" is n...     0  Amazon\n",
       "15   Highly recommend for any one who has a blue to...     1  Amazon\n",
       "16                 I advise EVERYONE DO NOT BE FOOLED!     0  Amazon\n",
       "17                                    So Far So Good!.     1  Amazon\n",
       "18                                       Works great!.     1  Amazon\n",
       "19   It clicks into place in a way that makes you w...     0  Amazon\n",
       "20   I went on Motorola's website and followed all ...     0  Amazon\n",
       "21   I bought this to use with my Kindle Fire and a...     1  Amazon\n",
       "22            The commercials are the most misleading.     0  Amazon\n",
       "23   I have yet to run this new battery below two b...     1  Amazon\n",
       "24   I bought it for my mother and she had a proble...     0  Amazon\n",
       "25                Great Pocket PC / phone combination.     1  Amazon\n",
       "26   I've owned this phone for 7 months now and can...     1  Amazon\n",
       "27   I didn't think that the instructions provided ...     0  Amazon\n",
       "28   People couldnt hear me talk and I had to pull ...     0  Amazon\n",
       "29                                Doesn't hold charge.     0  Amazon\n",
       "..                                                 ...   ...     ...\n",
       "970  I immediately said I wanted to talk to the man...     0    Yelp\n",
       "971                    The ambiance isn't much better.     0    Yelp\n",
       "972  Unfortunately, it only set us up for disapppoi...     0    Yelp\n",
       "973                              The food wasn't good.     0    Yelp\n",
       "974  Your servers suck, wait, correction, our serve...     0    Yelp\n",
       "975      What happened next was pretty....off putting.     0    Yelp\n",
       "976  too bad cause I know it's family owned, I real...     0    Yelp\n",
       "977               Overpriced for what you are getting.     0    Yelp\n",
       "978               I vomited in the bathroom mid lunch.     0    Yelp\n",
       "979  I kept looking at the time and it had soon bec...     0    Yelp\n",
       "980  I have been to very few places to eat that und...     0    Yelp\n",
       "981  We started with the tuna sashimi which was bro...     0    Yelp\n",
       "982                            Food was below average.     0    Yelp\n",
       "983  It sure does beat the nachos at the movies but...     0    Yelp\n",
       "984       All in all, Ha Long Bay was a bit of a flop.     0    Yelp\n",
       "985  The problem I have is that they charge $11.99 ...     0    Yelp\n",
       "986  Shrimp- When I unwrapped it (I live only 1/2 a...     0    Yelp\n",
       "987     It lacked flavor, seemed undercooked, and dry.     0    Yelp\n",
       "988  It really is impressive that the place hasn't ...     0    Yelp\n",
       "989  I would avoid this place if you are staying in...     0    Yelp\n",
       "990  The refried beans that came with my meal were ...     0    Yelp\n",
       "991         Spend your money and time some place else.     0    Yelp\n",
       "992  A lady at the table next to us found a live gr...     0    Yelp\n",
       "993            the presentation of the food was awful.     0    Yelp\n",
       "994           I can't tell you how disappointed I was.     0    Yelp\n",
       "995  I think food should have flavor and texture an...     0    Yelp\n",
       "996                           Appetite instantly gone.     0    Yelp\n",
       "997  Overall I was not impressed and would not go b...     0    Yelp\n",
       "998  The whole experience was underwhelming, and I ...     0    Yelp\n",
       "999  Then, as if I hadn't wasted enough of my life ...     0    Yelp\n",
       "\n",
       "[2748 rows x 3 columns]"
      ]
     },
     "execution_count": 5,
     "metadata": {},
     "output_type": "execute_result"
    }
   ],
   "source": [
    "#assign the categories to each column\n",
    "data_score[['Sentence', 'Score', 'Website']].apply(lambda x: x.astype('category'))"
   ]
  },
  {
   "cell_type": "code",
   "execution_count": 6,
   "metadata": {},
   "outputs": [
    {
     "data": {
      "text/plain": [
       "0      So there is no way for me to plug it in here i...\n",
       "1                            Good case, Excellent value.\n",
       "2                                 Great for the jawbone.\n",
       "3      Tied to charger for conversations lasting more...\n",
       "4                                      The mic is great.\n",
       "5      I have to jiggle the plug to get it to line up...\n",
       "6      If you have several dozen or several hundred c...\n",
       "7            If you are Razr owner...you must have this!\n",
       "8                    Needless to say, I wasted my money.\n",
       "9                       What a waste of money and time!.\n",
       "10                       And the sound quality is great.\n",
       "11     He was very impressed when going from the orig...\n",
       "12     If the two were seperated by a mere 5+ ft I st...\n",
       "13                              Very good quality though\n",
       "14     The design is very odd, as the ear \"clip\" is n...\n",
       "15     Highly recommend for any one who has a blue to...\n",
       "16                   I advise EVERYONE DO NOT BE FOOLED!\n",
       "17                                      So Far So Good!.\n",
       "18                                         Works great!.\n",
       "19     It clicks into place in a way that makes you w...\n",
       "20     I went on Motorola's website and followed all ...\n",
       "21     I bought this to use with my Kindle Fire and a...\n",
       "22              The commercials are the most misleading.\n",
       "23     I have yet to run this new battery below two b...\n",
       "24     I bought it for my mother and she had a proble...\n",
       "25                  Great Pocket PC / phone combination.\n",
       "26     I've owned this phone for 7 months now and can...\n",
       "27     I didn't think that the instructions provided ...\n",
       "28     People couldnt hear me talk and I had to pull ...\n",
       "29                                  Doesn't hold charge.\n",
       "                             ...                        \n",
       "970    I immediately said I wanted to talk to the man...\n",
       "971                      The ambiance isn't much better.\n",
       "972    Unfortunately, it only set us up for disapppoi...\n",
       "973                                The food wasn't good.\n",
       "974    Your servers suck, wait, correction, our serve...\n",
       "975        What happened next was pretty....off putting.\n",
       "976    too bad cause I know it's family owned, I real...\n",
       "977                 Overpriced for what you are getting.\n",
       "978                 I vomited in the bathroom mid lunch.\n",
       "979    I kept looking at the time and it had soon bec...\n",
       "980    I have been to very few places to eat that und...\n",
       "981    We started with the tuna sashimi which was bro...\n",
       "982                              Food was below average.\n",
       "983    It sure does beat the nachos at the movies but...\n",
       "984         All in all, Ha Long Bay was a bit of a flop.\n",
       "985    The problem I have is that they charge $11.99 ...\n",
       "986    Shrimp- When I unwrapped it (I live only 1/2 a...\n",
       "987       It lacked flavor, seemed undercooked, and dry.\n",
       "988    It really is impressive that the place hasn't ...\n",
       "989    I would avoid this place if you are staying in...\n",
       "990    The refried beans that came with my meal were ...\n",
       "991           Spend your money and time some place else.\n",
       "992    A lady at the table next to us found a live gr...\n",
       "993              the presentation of the food was awful.\n",
       "994             I can't tell you how disappointed I was.\n",
       "995    I think food should have flavor and texture an...\n",
       "996                             Appetite instantly gone.\n",
       "997    Overall I was not impressed and would not go b...\n",
       "998    The whole experience was underwhelming, and I ...\n",
       "999    Then, as if I hadn't wasted enough of my life ...\n",
       "Name: Sentence, Length: 2748, dtype: object"
      ]
     },
     "execution_count": 6,
     "metadata": {},
     "output_type": "execute_result"
    }
   ],
   "source": [
    "#try calling one category\n",
    "data_score.Sentence"
   ]
  },
  {
   "cell_type": "code",
   "execution_count": 7,
   "metadata": {},
   "outputs": [
    {
     "data": {
      "text/plain": [
       "2748"
      ]
     },
     "execution_count": 7,
     "metadata": {},
     "output_type": "execute_result"
    }
   ],
   "source": [
    "#print the length\n",
    "len(data_score.Score)"
   ]
  },
  {
   "cell_type": "code",
   "execution_count": 8,
   "metadata": {},
   "outputs": [
    {
     "name": "stdout",
     "output_type": "stream",
     "text": [
      "So there is no way for me to plug it in here in the US unless I go by a converter.\n",
      "A very, very, very slow-moving, aimless movie about a distressed, drifting young man.  \n",
      "Wow... Loved this place.\n"
     ]
    }
   ],
   "source": [
    "# An example of what the subset contains\n",
    "print(\"\\n\".join(data_score.Sentence[0]))"
   ]
  },
  {
   "cell_type": "code",
   "execution_count": 9,
   "metadata": {},
   "outputs": [
    {
     "data": {
      "text/plain": [
       "0    Amazon\n",
       "1    Amazon\n",
       "2    Amazon\n",
       "3    Amazon\n",
       "4    Amazon\n",
       "5    Amazon\n",
       "6    Amazon\n",
       "7    Amazon\n",
       "8    Amazon\n",
       "9    Amazon\n",
       "Name: Website, dtype: object"
      ]
     },
     "execution_count": 9,
     "metadata": {},
     "output_type": "execute_result"
    }
   ],
   "source": [
    "# category \"Website\" of first 10 documents.\n",
    "data_score.Website[:10]"
   ]
  },
  {
   "cell_type": "code",
   "execution_count": 10,
   "metadata": {},
   "outputs": [],
   "source": [
    "# DATA TRANSFORMATION"
   ]
  },
  {
   "cell_type": "code",
   "execution_count": 11,
   "metadata": {},
   "outputs": [],
   "source": [
    "import pandas as pd\n",
    "\n",
    "# construct dataframe of only \"Sentence\" categories\n",
    "data_frame = pd.DataFrame(data=data_score['Sentence'])"
   ]
  },
  {
   "cell_type": "code",
   "execution_count": 12,
   "metadata": {},
   "outputs": [
    {
     "data": {
      "text/plain": [
       "2748"
      ]
     },
     "execution_count": 12,
     "metadata": {},
     "output_type": "execute_result"
    }
   ],
   "source": [
    "len(data_frame)"
   ]
  },
  {
   "cell_type": "code",
   "execution_count": 13,
   "metadata": {},
   "outputs": [
    {
     "data": {
      "text/html": [
       "<div>\n",
       "<style scoped>\n",
       "    .dataframe tbody tr th:only-of-type {\n",
       "        vertical-align: middle;\n",
       "    }\n",
       "\n",
       "    .dataframe tbody tr th {\n",
       "        vertical-align: top;\n",
       "    }\n",
       "\n",
       "    .dataframe thead th {\n",
       "        text-align: right;\n",
       "    }\n",
       "</style>\n",
       "<table border=\"1\" class=\"dataframe\">\n",
       "  <thead>\n",
       "    <tr style=\"text-align: right;\">\n",
       "      <th></th>\n",
       "      <th>Sentence</th>\n",
       "    </tr>\n",
       "  </thead>\n",
       "  <tbody>\n",
       "    <tr>\n",
       "      <th>0</th>\n",
       "      <td>So there is no way for me to plug it in here i...</td>\n",
       "    </tr>\n",
       "    <tr>\n",
       "      <th>1</th>\n",
       "      <td>Good case, Excellent value.</td>\n",
       "    </tr>\n",
       "  </tbody>\n",
       "</table>\n",
       "</div>"
      ],
      "text/plain": [
       "                                            Sentence\n",
       "0  So there is no way for me to plug it in here i...\n",
       "1                        Good case, Excellent value."
      ]
     },
     "execution_count": 13,
     "metadata": {},
     "output_type": "execute_result"
    }
   ],
   "source": [
    "data_frame[0:2]"
   ]
  },
  {
   "cell_type": "code",
   "execution_count": 14,
   "metadata": {},
   "outputs": [
    {
     "name": "stdout",
     "output_type": "stream",
     "text": [
      "So there is no way for me to plug it in here in the US unless I go by a converter.\n",
      "Good case, Excellent value.\n",
      "Great for the jawbone.\n"
     ]
    }
   ],
   "source": [
    "for t in data_frame[\"Sentence\"][:3]:\n",
    "    print(t)"
   ]
  },
  {
   "cell_type": "code",
   "execution_count": 15,
   "metadata": {},
   "outputs": [
    {
     "data": {
      "text/html": [
       "<div>\n",
       "<style scoped>\n",
       "    .dataframe tbody tr th:only-of-type {\n",
       "        vertical-align: middle;\n",
       "    }\n",
       "\n",
       "    .dataframe tbody tr th {\n",
       "        vertical-align: top;\n",
       "    }\n",
       "\n",
       "    .dataframe thead th {\n",
       "        text-align: right;\n",
       "    }\n",
       "</style>\n",
       "<table border=\"1\" class=\"dataframe\">\n",
       "  <thead>\n",
       "    <tr style=\"text-align: right;\">\n",
       "      <th></th>\n",
       "      <th>Sentence</th>\n",
       "      <th>Score</th>\n",
       "      <th>Website</th>\n",
       "    </tr>\n",
       "  </thead>\n",
       "  <tbody>\n",
       "  </tbody>\n",
       "</table>\n",
       "</div>"
      ],
      "text/plain": [
       "Empty DataFrame\n",
       "Columns: [Sentence, Score, Website]\n",
       "Index: []"
      ]
     },
     "execution_count": 15,
     "metadata": {},
     "output_type": "execute_result"
    }
   ],
   "source": [
    "#check missing data\n",
    "#creating bool series True for NaN values  - result is no missing data in 'Sentence'\n",
    "bool_series = pd.isnull(data_score[\"Sentence\"]) \n",
    "data_score[bool_series]  "
   ]
  },
  {
   "cell_type": "code",
   "execution_count": 16,
   "metadata": {},
   "outputs": [
    {
     "data": {
      "text/html": [
       "<div>\n",
       "<style scoped>\n",
       "    .dataframe tbody tr th:only-of-type {\n",
       "        vertical-align: middle;\n",
       "    }\n",
       "\n",
       "    .dataframe tbody tr th {\n",
       "        vertical-align: top;\n",
       "    }\n",
       "\n",
       "    .dataframe thead th {\n",
       "        text-align: right;\n",
       "    }\n",
       "</style>\n",
       "<table border=\"1\" class=\"dataframe\">\n",
       "  <thead>\n",
       "    <tr style=\"text-align: right;\">\n",
       "      <th></th>\n",
       "      <th>Sentence</th>\n",
       "      <th>Score</th>\n",
       "      <th>Website</th>\n",
       "    </tr>\n",
       "  </thead>\n",
       "  <tbody>\n",
       "  </tbody>\n",
       "</table>\n",
       "</div>"
      ],
      "text/plain": [
       "Empty DataFrame\n",
       "Columns: [Sentence, Score, Website]\n",
       "Index: []"
      ]
     },
     "execution_count": 16,
     "metadata": {},
     "output_type": "execute_result"
    }
   ],
   "source": [
    "#check missing data\n",
    "#creating bool series True for NaN values  - result is no missing data in 'Score'\n",
    "bool_series = pd.isnull(data_score[\"Score\"]) \n",
    "data_score[bool_series] "
   ]
  },
  {
   "cell_type": "code",
   "execution_count": 17,
   "metadata": {},
   "outputs": [
    {
     "data": {
      "text/html": [
       "<div>\n",
       "<style scoped>\n",
       "    .dataframe tbody tr th:only-of-type {\n",
       "        vertical-align: middle;\n",
       "    }\n",
       "\n",
       "    .dataframe tbody tr th {\n",
       "        vertical-align: top;\n",
       "    }\n",
       "\n",
       "    .dataframe thead th {\n",
       "        text-align: right;\n",
       "    }\n",
       "</style>\n",
       "<table border=\"1\" class=\"dataframe\">\n",
       "  <thead>\n",
       "    <tr style=\"text-align: right;\">\n",
       "      <th></th>\n",
       "      <th>Sentence</th>\n",
       "      <th>Score</th>\n",
       "      <th>Website</th>\n",
       "    </tr>\n",
       "  </thead>\n",
       "  <tbody>\n",
       "  </tbody>\n",
       "</table>\n",
       "</div>"
      ],
      "text/plain": [
       "Empty DataFrame\n",
       "Columns: [Sentence, Score, Website]\n",
       "Index: []"
      ]
     },
     "execution_count": 17,
     "metadata": {},
     "output_type": "execute_result"
    }
   ],
   "source": [
    "#check missing data\n",
    "#creating bool series True for NaN values  - result is no missing data in 'Website'\n",
    "bool_series = pd.isnull(data_score[\"Website\"]) \n",
    "data_score[bool_series] "
   ]
  },
  {
   "cell_type": "code",
   "execution_count": 18,
   "metadata": {},
   "outputs": [
    {
     "data": {
      "text/plain": [
       "2748"
      ]
     },
     "execution_count": 18,
     "metadata": {},
     "output_type": "execute_result"
    }
   ],
   "source": [
    "#check the number of items before inserting dummy\n",
    "len(data_score)"
   ]
  },
  {
   "cell_type": "code",
   "execution_count": 19,
   "metadata": {},
   "outputs": [],
   "source": [
    "#create a dummay line\n",
    "dummy_series1 = pd.Series([\"dummy_record\", 1], index=[\"Sentence\", \"Score\"])"
   ]
  },
  {
   "cell_type": "code",
   "execution_count": 20,
   "metadata": {},
   "outputs": [
    {
     "data": {
      "text/plain": [
       "Sentence    dummy_record\n",
       "Score                  1\n",
       "dtype: object"
      ]
     },
     "execution_count": 20,
     "metadata": {},
     "output_type": "execute_result"
    }
   ],
   "source": [
    "#preview of the dummy line we created\n",
    "dummy_series1"
   ]
  },
  {
   "cell_type": "code",
   "execution_count": 21,
   "metadata": {},
   "outputs": [],
   "source": [
    "#append(insert) a dummy series into the a seperate result called \"result_with_series\"\n",
    "result_with_series =data_score.append(dummy_series1, ignore_index=True)"
   ]
  },
  {
   "cell_type": "code",
   "execution_count": 22,
   "metadata": {},
   "outputs": [
    {
     "data": {
      "text/plain": [
       "2749"
      ]
     },
     "execution_count": 22,
     "metadata": {},
     "output_type": "execute_result"
    }
   ],
   "source": [
    "#check if the records was committed into result\n",
    "#the result was input successfully since the total length increased by 1\n",
    "len(result_with_series)"
   ]
  },
  {
   "cell_type": "code",
   "execution_count": 23,
   "metadata": {},
   "outputs": [
    {
     "data": {
      "text/plain": [
       "2748"
      ]
     },
     "execution_count": 23,
     "metadata": {},
     "output_type": "execute_result"
    }
   ],
   "source": [
    "#length of the original dataset was not changed\n",
    "len(data_score)"
   ]
  },
  {
   "cell_type": "code",
   "execution_count": 24,
   "metadata": {},
   "outputs": [
    {
     "data": {
      "text/html": [
       "<div>\n",
       "<style scoped>\n",
       "    .dataframe tbody tr th:only-of-type {\n",
       "        vertical-align: middle;\n",
       "    }\n",
       "\n",
       "    .dataframe tbody tr th {\n",
       "        vertical-align: top;\n",
       "    }\n",
       "\n",
       "    .dataframe thead th {\n",
       "        text-align: right;\n",
       "    }\n",
       "</style>\n",
       "<table border=\"1\" class=\"dataframe\">\n",
       "  <thead>\n",
       "    <tr style=\"text-align: right;\">\n",
       "      <th></th>\n",
       "      <th>Sentence</th>\n",
       "      <th>Score</th>\n",
       "      <th>Website</th>\n",
       "    </tr>\n",
       "  </thead>\n",
       "  <tbody>\n",
       "    <tr>\n",
       "      <th>2748</th>\n",
       "      <td>dummy_record</td>\n",
       "      <td>1</td>\n",
       "      <td>NaN</td>\n",
       "    </tr>\n",
       "  </tbody>\n",
       "</table>\n",
       "</div>"
      ],
      "text/plain": [
       "          Sentence  Score Website\n",
       "2748  dummy_record      1     NaN"
      ]
     },
     "execution_count": 24,
     "metadata": {},
     "output_type": "execute_result"
    }
   ],
   "source": [
    "#check missing data\n",
    "\n",
    "#creating bool series True for NaN values  - result is 1 missing data in 'Website'\n",
    "#Please note that it is the #2748 line because it started with 0\n",
    "#noted that this will not affect the original dataset \"all\"\n",
    "\n",
    "bool_series3 = pd.isnull(result_with_series[\"Website\"]) \n",
    "result_with_series[bool_series3] "
   ]
  },
  {
   "cell_type": "code",
   "execution_count": 25,
   "metadata": {},
   "outputs": [],
   "source": [
    "#define a dummy dictionary\n",
    "#THIS IS JUST TO DEFINE THE DEFINITION OF \"DUMMY\" SO THAT THE NEXT TIME WE CAN JUST USE THE NAME dummy_dict WHEN GETTING RID OF DUMMY\n",
    "#dummy record as dictionary format\n",
    "\n",
    "dummy_dict = [{'Sentence': 'dummy_record',\n",
    "               'Score': 1\n",
    "              }]"
   ]
  },
  {
   "cell_type": "code",
   "execution_count": 26,
   "metadata": {},
   "outputs": [],
   "source": [
    "#Remove the record with the missing values\n",
    "\n",
    "result_with_series.dropna(inplace=True)"
   ]
  },
  {
   "cell_type": "code",
   "execution_count": 27,
   "metadata": {},
   "outputs": [
    {
     "data": {
      "text/plain": [
       "2748"
      ]
     },
     "execution_count": 27,
     "metadata": {},
     "output_type": "execute_result"
    }
   ],
   "source": [
    "#double-check that the missing values was removed from the dataset\n",
    "len(result_with_series)"
   ]
  },
  {
   "cell_type": "code",
   "execution_count": 28,
   "metadata": {},
   "outputs": [
    {
     "data": {
      "text/plain": [
       "0      False\n",
       "1      False\n",
       "2      False\n",
       "3      False\n",
       "4      False\n",
       "5      False\n",
       "6      False\n",
       "7      False\n",
       "8      False\n",
       "9      False\n",
       "10     False\n",
       "11     False\n",
       "12     False\n",
       "13     False\n",
       "14     False\n",
       "15     False\n",
       "16     False\n",
       "17     False\n",
       "18     False\n",
       "19     False\n",
       "20     False\n",
       "21     False\n",
       "22     False\n",
       "23     False\n",
       "24     False\n",
       "25     False\n",
       "26     False\n",
       "27     False\n",
       "28     False\n",
       "29     False\n",
       "       ...  \n",
       "970    False\n",
       "971    False\n",
       "972    False\n",
       "973    False\n",
       "974    False\n",
       "975    False\n",
       "976    False\n",
       "977    False\n",
       "978    False\n",
       "979    False\n",
       "980    False\n",
       "981    False\n",
       "982    False\n",
       "983    False\n",
       "984    False\n",
       "985    False\n",
       "986    False\n",
       "987    False\n",
       "988    False\n",
       "989    False\n",
       "990    False\n",
       "991    False\n",
       "992    False\n",
       "993    False\n",
       "994    False\n",
       "995    False\n",
       "996    False\n",
       "997    False\n",
       "998    False\n",
       "999    False\n",
       "Length: 2748, dtype: bool"
      ]
     },
     "execution_count": 28,
     "metadata": {},
     "output_type": "execute_result"
    }
   ],
   "source": [
    "#check for duplicate data\n",
    "#the result is only one row because the function only checks the record, not each columns\n",
    "data_score.duplicated()"
   ]
  },
  {
   "cell_type": "code",
   "execution_count": 29,
   "metadata": {},
   "outputs": [
    {
     "data": {
      "text/plain": [
       "17"
      ]
     },
     "execution_count": 29,
     "metadata": {},
     "output_type": "execute_result"
    }
   ],
   "source": [
    "#check the sum of duplicated data, in rows\n",
    "sum(data_score.duplicated())"
   ]
  },
  {
   "cell_type": "code",
   "execution_count": 30,
   "metadata": {},
   "outputs": [
    {
     "data": {
      "text/plain": [
       "17"
      ]
     },
     "execution_count": 30,
     "metadata": {},
     "output_type": "execute_result"
    }
   ],
   "source": [
    "#we will only perfrom duplicate detection on \"Sentence\", since the other two columnns may have duplicate data due to their nature\n",
    "sum(data_score.duplicated('Sentence'))"
   ]
  },
  {
   "cell_type": "code",
   "execution_count": 31,
   "metadata": {},
   "outputs": [],
   "source": [
    "#create the dummy dictionary for future use\n",
    "dummy_duplicate_dict = [{\n",
    "                             'Sentence': '',\n",
    "                             'Score': 1, \n",
    "                             'Website': \"\"\n",
    "                        }]"
   ]
  },
  {
   "cell_type": "code",
   "execution_count": 32,
   "metadata": {},
   "outputs": [],
   "source": [
    "#drop the duplicates with the following condition, keep the first item\n",
    "data_score =data_score.drop_duplicates(subset=\"Sentence\", keep='first', inplace=False)"
   ]
  },
  {
   "cell_type": "code",
   "execution_count": 33,
   "metadata": {},
   "outputs": [
    {
     "data": {
      "text/plain": [
       "2731"
      ]
     },
     "execution_count": 33,
     "metadata": {},
     "output_type": "execute_result"
    }
   ],
   "source": [
    "#remove the duplicates value(kept the first occurrence)\n",
    "#the total amount removed is 17; therefore, the left over items are 2748-17=2731\n",
    "len(data_score)"
   ]
  },
  {
   "cell_type": "code",
   "execution_count": 34,
   "metadata": {},
   "outputs": [],
   "source": [
    "# DATA PREPROCESSING"
   ]
  },
  {
   "cell_type": "code",
   "execution_count": 35,
   "metadata": {},
   "outputs": [],
   "source": [
    "#Create random state\n",
    "data_sample = data_score.sample(n=1000) "
   ]
  },
  {
   "cell_type": "code",
   "execution_count": 36,
   "metadata": {},
   "outputs": [
    {
     "data": {
      "text/plain": [
       "1000"
      ]
     },
     "execution_count": 36,
     "metadata": {},
     "output_type": "execute_result"
    }
   ],
   "source": [
    "len(data_sample)"
   ]
  },
  {
   "cell_type": "code",
   "execution_count": 37,
   "metadata": {},
   "outputs": [
    {
     "data": {
      "text/html": [
       "<div>\n",
       "<style scoped>\n",
       "    .dataframe tbody tr th:only-of-type {\n",
       "        vertical-align: middle;\n",
       "    }\n",
       "\n",
       "    .dataframe tbody tr th {\n",
       "        vertical-align: top;\n",
       "    }\n",
       "\n",
       "    .dataframe thead th {\n",
       "        text-align: right;\n",
       "    }\n",
       "</style>\n",
       "<table border=\"1\" class=\"dataframe\">\n",
       "  <thead>\n",
       "    <tr style=\"text-align: right;\">\n",
       "      <th></th>\n",
       "      <th>Sentence</th>\n",
       "      <th>Score</th>\n",
       "      <th>Website</th>\n",
       "    </tr>\n",
       "  </thead>\n",
       "  <tbody>\n",
       "    <tr>\n",
       "      <th>836</th>\n",
       "      <td>Just had lunch here and had a great experience.</td>\n",
       "      <td>1</td>\n",
       "      <td>Yelp</td>\n",
       "    </tr>\n",
       "    <tr>\n",
       "      <th>280</th>\n",
       "      <td>Hackneyed writing, certainly, but made even wo...</td>\n",
       "      <td>0</td>\n",
       "      <td>Imdb</td>\n",
       "    </tr>\n",
       "    <tr>\n",
       "      <th>569</th>\n",
       "      <td>I consider this theft.</td>\n",
       "      <td>0</td>\n",
       "      <td>Yelp</td>\n",
       "    </tr>\n",
       "    <tr>\n",
       "      <th>611</th>\n",
       "      <td>Cinematography: The film was shot in an intere...</td>\n",
       "      <td>1</td>\n",
       "      <td>Imdb</td>\n",
       "    </tr>\n",
       "    <tr>\n",
       "      <th>970</th>\n",
       "      <td>I immediately said I wanted to talk to the man...</td>\n",
       "      <td>0</td>\n",
       "      <td>Yelp</td>\n",
       "    </tr>\n",
       "  </tbody>\n",
       "</table>\n",
       "</div>"
      ],
      "text/plain": [
       "                                              Sentence  Score Website\n",
       "836    Just had lunch here and had a great experience.      1    Yelp\n",
       "280  Hackneyed writing, certainly, but made even wo...      0    Imdb\n",
       "569                             I consider this theft.      0    Yelp\n",
       "611  Cinematography: The film was shot in an intere...      1    Imdb\n",
       "970  I immediately said I wanted to talk to the man...      0    Yelp"
      ]
     },
     "execution_count": 37,
     "metadata": {},
     "output_type": "execute_result"
    }
   ],
   "source": [
    "data_sample[0:5]"
   ]
  },
  {
   "cell_type": "code",
   "execution_count": 38,
   "metadata": {},
   "outputs": [],
   "source": [
    "#import the library to plot graphs\n",
    "\n",
    "import matplotlib.pyplot as plt\n",
    "%matplotlib inline"
   ]
  },
  {
   "cell_type": "code",
   "execution_count": 39,
   "metadata": {},
   "outputs": [
    {
     "name": "stdout",
     "output_type": "stream",
     "text": [
      "['bmh', 'classic', 'dark_background', 'fast', 'fivethirtyeight', 'ggplot', 'grayscale', 'seaborn-bright', 'seaborn-colorblind', 'seaborn-dark-palette', 'seaborn-dark', 'seaborn-darkgrid', 'seaborn-deep', 'seaborn-muted', 'seaborn-notebook', 'seaborn-paper', 'seaborn-pastel', 'seaborn-poster', 'seaborn-talk', 'seaborn-ticks', 'seaborn-white', 'seaborn-whitegrid', 'seaborn', 'Solarize_Light2', 'tableau-colorblind10', '_classic_test']\n"
     ]
    }
   ],
   "source": [
    "#other available styles to prettify your charts\n",
    "print(plt.style.available)"
   ]
  },
  {
   "cell_type": "code",
   "execution_count": 40,
   "metadata": {},
   "outputs": [
    {
     "name": "stdout",
     "output_type": "stream",
     "text": [
      "Yelp      996\n",
      "Amazon    990\n",
      "Imdb      745\n",
      "Name: Website, dtype: int64\n"
     ]
    },
    {
     "data": {
      "text/plain": [
       "<matplotlib.axes._subplots.AxesSubplot at 0x29c369bc748>"
      ]
     },
     "execution_count": 40,
     "metadata": {},
     "output_type": "execute_result"
    },
    {
     "data": {
      "image/png": "[encoded data removed]",
      "text/plain": [
       "<Figure size 216x216 with 1 Axes>"
      ]
     },
     "metadata": {
      "needs_background": "light"
     },
     "output_type": "display_data"
    }
   ],
   "source": [
    "print(data_score.Website.value_counts())\n",
    "\n",
    "# plot barchart for data_score\n",
    "data_score.Website.value_counts().plot(kind = 'bar',\n",
    "                                    title = 'Category distribution',\n",
    "                                    ylim = 0,        \n",
    "                                    rot = 0, fontsize = 11, figsize = (3,3))"
   ]
  },
  {
   "cell_type": "code",
   "execution_count": 41,
   "metadata": {},
   "outputs": [
    {
     "name": "stdout",
     "output_type": "stream",
     "text": [
      "Amazon    371\n",
      "Yelp      354\n",
      "Imdb      275\n",
      "Name: Website, dtype: int64\n"
     ]
    },
    {
     "data": {
      "text/plain": [
       "<matplotlib.axes._subplots.AxesSubplot at 0x29c36cbd7b8>"
      ]
     },
     "execution_count": 41,
     "metadata": {},
     "output_type": "execute_result"
    },
    {
     "data": {
      "image/png": "[encoded data removed]",
      "text/plain": [
       "<Figure size 216x216 with 1 Axes>"
      ]
     },
     "metadata": {
      "needs_background": "light"
     },
     "output_type": "display_data"
    }
   ],
   "source": [
    "print(data_sample.Website.value_counts())\n",
    "\n",
    "# plot barchart for data_sample\n",
    "data_sample.Website.value_counts().plot(kind = 'bar',\n",
    "                                    title = 'Category distribution',\n",
    "                                    ylim = 0,        \n",
    "                                    rot = 0, fontsize = 11, figsize = (3,3))"
   ]
  },
  {
   "cell_type": "code",
   "execution_count": 42,
   "metadata": {},
   "outputs": [],
   "source": [
    "import numpy as np"
   ]
  },
  {
   "cell_type": "code",
   "execution_count": 43,
   "metadata": {},
   "outputs": [
    {
     "data": {
      "image/png": "[encoded data removed]",
      "text/plain": [
       "<Figure size 432x288 with 1 Axes>"
      ]
     },
     "metadata": {
      "needs_background": "light"
     },
     "output_type": "display_data"
    }
   ],
   "source": [
    "# data to plot\n",
    "n_groups = 3\n",
    "means_score = data_score.Website.value_counts()\n",
    "means_sample = data_sample.Website.value_counts()\n",
    "\n",
    "# create plot\n",
    "fig, ax = plt.subplots()\n",
    "index = np.arange(n_groups)\n",
    "bar_width = 0.35\n",
    "opacity = 0.8\n",
    "\n",
    "rects1 = plt.bar(index, means_score, bar_width,\n",
    "alpha=opacity,\n",
    "color='c',\n",
    "label='Score')\n",
    "\n",
    "rects2 = plt.bar(index + bar_width, means_sample, bar_width,\n",
    "alpha=opacity,\n",
    "color='y',\n",
    "label='Sample')\n",
    "\n",
    "plt.xlabel('Website')\n",
    "plt.ylabel('Sentences count')\n",
    "plt.title('Category distribution')\n",
    "plt.xticks(index + bar_width, ('Yelp', 'Amazon', 'Imdb', 'D'))\n",
    "plt.legend()\n",
    "\n",
    "plt.tight_layout()\n",
    "plt.show()"
   ]
  },
  {
   "cell_type": "code",
   "execution_count": 44,
   "metadata": {},
   "outputs": [
    {
     "name": "stdout",
     "output_type": "stream",
     "text": [
      "showing info https://raw.githubusercontent.com/nltk/nltk_data/gh-pages/index.xml\n"
     ]
    },
    {
     "data": {
      "text/plain": [
       "True"
      ]
     },
     "execution_count": 44,
     "metadata": {},
     "output_type": "execute_result"
    }
   ],
   "source": [
    "import nltk\n",
    "nltk.download()"
   ]
  },
  {
   "cell_type": "code",
   "execution_count": 54,
   "metadata": {},
   "outputs": [
    {
     "name": "stdout",
     "output_type": "stream",
     "text": [
      "['0', 'So', 'way', 'plug', '...', '1', 'Good', 'case', ',', 'Excellent', 'value', '.', '2', 'Great', 'jawbone', '.', '3', 'Tied', 'charger', 'conversations', 'lasting', '...', '4', 'The', 'mic', 'great', '.', '5', 'I', 'jiggle', 'plug', 'get', 'line', '...', '6', 'If', 'several', 'dozen', 'several', 'hundred', 'c', '...', '7', 'If', 'Razr', 'owner', '...', 'must', '!', '8', 'Needless', 'say', ',', 'I', 'wasted', 'money', '.', '9', 'What', 'waste', 'money', 'time', '!', '.', '10', 'And', 'sound', 'quality', 'great', '.', '11', 'He', 'impressed', 'going', 'orig', '...', '12', 'If', 'two', 'seperated', 'mere', '5+', 'ft', 'I', 'st', '...', '13', 'Very', 'good', 'quality', 'though', '14', 'The', 'design', 'odd', ',', 'ear', '``', 'clip', \"''\", 'n', '...', '15', 'Highly', 'recommend', 'one', 'blue', '...', '16', 'I', 'advise', 'EVERYONE', 'DO', 'NOT', 'BE', 'FOOLED', '!', '17', 'So', 'Far', 'So', 'Good', '!', '.', '18', 'Works', 'great', '!', '.', '19', 'It', 'clicks', 'place', 'way', 'makes', 'w', '...', '20', 'I', 'went', 'Motorola', \"'s\", 'website', 'followed', '...', '21', 'I', 'bought', 'use', 'Kindle', 'Fire', '...', '22', 'The', 'commercials', 'misleading', '.', '23', 'I', 'yet', 'run', 'new', 'battery', 'two', 'b', '...', '24', 'I', 'bought', 'mother', 'proble', '...', '25', 'Great', 'Pocket', 'PC', '/', 'phone', 'combination', '.', '26', 'I', \"'ve\", 'owned', 'phone', '7', 'months', '...', '27', 'I', \"n't\", 'think', 'instructions', 'provided', '...', '28', 'People', 'couldnt', 'hear', 'talk', 'I', 'pull', '...', '29', 'Does', \"n't\", 'hold', 'charge', '.', '...', '970', 'I', 'immediately', 'said', 'I', 'wanted', 'talk', 'man', '...', '971', 'The', 'ambiance', \"n't\", 'much', 'better', '.', '972', 'Unfortunately', ',', 'set', 'us', 'disapppoi', '...', '973', 'The', 'food', \"n't\", 'good', '.', '974', 'Your', 'servers', 'suck', ',', 'wait', ',', 'correction', ',', 'serve', '...', '975', 'What', 'happened', 'next', 'pretty', '...', '.off', 'putting', '.', '976', 'bad', 'cause', 'I', 'know', \"'s\", 'family', 'owned', ',', 'I', 'real', '...', '977', 'Overpriced', 'getting', '.', '978', 'I', 'vomited', 'bathroom', 'mid', 'lunch', '.', '979', 'I', 'kept', 'looking', 'time', 'soon', 'bec', '...', '980', 'I', 'places', 'eat', 'und', '...', '981', 'We', 'started', 'tuna', 'sashimi', 'bro', '...', '982', 'Food', 'average', '.', '983', 'It', 'sure', 'beat', 'nachos', 'movies', '...', '984', 'All', ',', 'Ha', 'Long', 'Bay', 'bit', 'flop', '.', '985', 'The', 'problem', 'I', 'charge', '$', '11.99', '...', '986', 'Shrimp-', 'When', 'I', 'unwrapped', '(', 'I', 'live', '1/2', '...', '987', 'It', 'lacked', 'flavor', ',', 'seemed', 'undercooked', ',', 'dry', '.', '988', 'It', 'really', 'impressive', 'place', \"n't\", '...', '989', 'I', 'would', 'avoid', 'place', 'staying', '...', '990', 'The', 'refried', 'beans', 'came', 'meal', '...', '991', 'Spend', 'money', 'time', 'place', 'else', '.', '992', 'A', 'lady', 'table', 'next', 'us', 'found', 'live', 'gr', '...', '993', 'presentation', 'food', 'awful', '.', '994', 'I', 'ca', \"n't\", 'tell', 'disappointed', 'I', '.', '995', 'I', 'think', 'food', 'flavor', 'texture', '...', '996', 'Appetite', 'instantly', 'gone', '.', '997', 'Overall', 'I', 'impressed', 'would', 'go', 'b', '...', '998', 'The', 'whole', 'experience', 'underwhelming', ',', 'I', '...', '999', 'Then', ',', 'I', \"n't\", 'wasted', 'enough', 'life', '...', 'Name', ':', 'Sentence', ',', 'Length', ':', '2731', ',', 'dtype', ':', 'object']\n"
     ]
    }
   ],
   "source": [
    "#tokenize the words and get rid of stopwords along the way\n",
    "from nltk.corpus import stopwords \n",
    "from nltk.tokenize import word_tokenize \n",
    "  \n",
    "stop_words = set(stopwords.words('english')) \n",
    "  \n",
    "word_tokens = word_tokenize(str(data_score.Sentence)) \n",
    "  \n",
    "filtered_sentence = [w for w in word_tokens if not w in stop_words] \n",
    "  \n",
    "filtered_sentence = [] \n",
    "  \n",
    "for w in word_tokens: \n",
    "    if w not in stop_words: \n",
    "        filtered_sentence.append(w) \n",
    "  \n",
    "print(filtered_sentence) "
   ]
  },
  {
   "cell_type": "code",
   "execution_count": 55,
   "metadata": {},
   "outputs": [],
   "source": [
    "#create word document matrix\n",
    "from sklearn.feature_extraction.text import CountVectorizer\n",
    "\n",
    "count_vect = CountVectorizer()\n",
    "X_counts = count_vect.fit_transform(filtered_sentence)"
   ]
  },
  {
   "cell_type": "code",
   "execution_count": 56,
   "metadata": {},
   "outputs": [
    {
     "data": {
      "text/plain": [
       "(450, 256)"
      ]
     },
     "execution_count": 56,
     "metadata": {},
     "output_type": "execute_result"
    }
   ],
   "source": [
    "# We can check the shape of this matrix by:\n",
    "X_counts.shape"
   ]
  },
  {
   "cell_type": "code",
   "execution_count": 60,
   "metadata": {},
   "outputs": [
    {
     "data": {
      "text/plain": [
       "['12', '13', '14']"
      ]
     },
     "execution_count": 60,
     "metadata": {},
     "output_type": "execute_result"
    }
   ],
   "source": [
    "# We can obtain the feature names of the vectorizer, i.e., the terms\n",
    "# usually on the horizontal axis\n",
    "count_vect.get_feature_names()[2:5]"
   ]
  },
  {
   "cell_type": "code",
   "execution_count": 61,
   "metadata": {},
   "outputs": [
    {
     "data": {
      "text/plain": [
       "array([[0, 0, 0, 0, 0, 0, 0, 0, 0, 0, 0, 0, 0, 0, 0, 0, 0, 0, 0, 0, 0, 0,\n",
       "        0, 0, 0, 0, 0, 0, 0, 0, 0, 0, 0, 0, 0, 0, 0, 0, 0, 0, 0, 0, 0, 0,\n",
       "        0, 0, 0, 0, 0, 0, 0, 0, 0, 0, 0, 0, 0, 0, 0, 0, 0, 0, 0, 0, 0, 0,\n",
       "        0, 0, 0, 0, 0, 0, 0, 0, 0, 0, 0, 0, 0, 0, 0, 0, 0, 0, 0, 0, 0, 0,\n",
       "        0, 0, 0, 0, 0, 0, 0, 0, 0, 0, 0, 0],\n",
       "       [0, 0, 0, 0, 0, 0, 0, 0, 0, 0, 0, 0, 0, 0, 0, 0, 0, 0, 0, 0, 0, 0,\n",
       "        0, 0, 0, 0, 0, 0, 0, 0, 0, 0, 0, 0, 0, 0, 0, 0, 0, 0, 0, 0, 0, 0,\n",
       "        0, 0, 0, 0, 0, 0, 0, 0, 0, 0, 0, 0, 0, 0, 0, 0, 0, 0, 0, 0, 0, 0,\n",
       "        0, 0, 0, 0, 0, 0, 0, 0, 0, 0, 0, 0, 0, 0, 0, 0, 0, 0, 0, 0, 0, 0,\n",
       "        0, 0, 0, 0, 0, 0, 0, 0, 0, 0, 0, 0],\n",
       "       [0, 0, 0, 0, 0, 0, 0, 0, 0, 0, 0, 0, 0, 0, 0, 0, 0, 0, 0, 0, 0, 0,\n",
       "        0, 0, 0, 0, 0, 0, 0, 0, 0, 0, 0, 0, 0, 0, 0, 0, 0, 0, 0, 0, 0, 0,\n",
       "        0, 0, 0, 0, 0, 0, 0, 0, 0, 0, 0, 0, 0, 0, 0, 0, 0, 0, 0, 0, 0, 0,\n",
       "        0, 0, 0, 0, 0, 0, 0, 0, 0, 0, 0, 0, 0, 0, 0, 0, 0, 0, 0, 0, 0, 0,\n",
       "        0, 0, 0, 0, 0, 0, 0, 0, 0, 0, 0, 0],\n",
       "       [0, 0, 0, 0, 0, 0, 0, 0, 0, 0, 0, 0, 0, 0, 0, 0, 0, 0, 0, 0, 0, 0,\n",
       "        0, 0, 0, 0, 0, 0, 0, 0, 0, 0, 0, 0, 0, 0, 0, 0, 0, 0, 0, 0, 0, 0,\n",
       "        0, 0, 0, 0, 0, 0, 0, 0, 0, 0, 0, 0, 0, 0, 0, 0, 0, 0, 0, 0, 0, 0,\n",
       "        0, 0, 0, 0, 0, 0, 0, 0, 0, 0, 0, 0, 0, 0, 0, 0, 0, 0, 0, 0, 0, 0,\n",
       "        0, 0, 0, 0, 0, 0, 0, 0, 0, 0, 0, 0],\n",
       "       [0, 0, 0, 0, 0, 0, 0, 0, 0, 0, 0, 0, 0, 0, 0, 0, 0, 0, 0, 0, 0, 0,\n",
       "        0, 0, 0, 0, 0, 0, 0, 0, 0, 0, 0, 0, 0, 0, 0, 0, 0, 0, 0, 0, 0, 0,\n",
       "        0, 0, 0, 0, 0, 0, 0, 0, 0, 0, 0, 0, 0, 0, 0, 0, 0, 0, 0, 0, 0, 0,\n",
       "        0, 0, 0, 0, 0, 0, 0, 0, 0, 0, 0, 0, 0, 0, 0, 0, 0, 0, 0, 0, 0, 0,\n",
       "        0, 0, 0, 0, 0, 0, 0, 0, 0, 0, 0, 0]], dtype=int64)"
      ]
     },
     "execution_count": 61,
     "metadata": {},
     "output_type": "execute_result"
    }
   ],
   "source": [
    "# we convert from sparse array to normal array\n",
    "X_counts[0:5, 0:100].toarray()"
   ]
  },
  {
   "cell_type": "code",
   "execution_count": 62,
   "metadata": {},
   "outputs": [
    {
     "data": {
      "text/plain": [
       "array([[0, 0, 0, 0, 0, 0, 0, 0, 0, 0, 0, 0, 0, 0, 0, 0, 0, 0, 0, 0, 0, 0,\n",
       "        0, 0, 0, 0, 0, 0, 0, 0, 0, 0, 0, 0, 0, 0, 0, 0, 0, 0, 0, 0, 0, 0,\n",
       "        0, 0, 0, 0, 0, 0, 0, 0, 0, 0, 0, 0, 0, 0, 0, 0, 0, 0, 0, 0, 0, 0,\n",
       "        0, 0, 0, 0, 0, 0, 0, 0, 0, 0, 0, 0, 0, 0, 0, 0, 0, 0, 0, 0, 0, 0,\n",
       "        0, 0, 0, 0, 0, 0, 0, 0, 0, 0, 0, 0, 0, 0, 0, 0, 0, 0, 0, 0, 0, 0,\n",
       "        0, 0, 0, 0, 0, 0, 0, 0, 0, 0, 0, 0, 0, 0, 0, 0, 0, 0, 0, 0, 0, 0,\n",
       "        0, 0, 0, 0, 0, 0, 0, 0, 0, 0, 0, 0, 0, 0, 0, 0, 0, 0, 0, 0, 0, 0,\n",
       "        0, 0, 0, 0, 0, 0, 0, 0, 0, 0, 0, 1, 0, 0, 0, 0, 0, 0, 0, 0, 0, 0,\n",
       "        0, 0, 0, 0, 0, 0, 0, 0, 0, 0, 0, 0, 0, 0, 0, 0, 0, 0, 0, 0, 0, 0,\n",
       "        0, 0, 0, 0, 0, 0, 0, 0, 0, 0, 0, 0, 0, 0, 0, 0, 0, 0, 0, 0, 0, 0,\n",
       "        0, 0, 0, 0, 0, 0, 0, 0, 0, 0, 0, 0, 0, 0, 0, 0, 0, 0, 0, 0, 0, 0,\n",
       "        0, 0, 0, 0, 0, 0, 0, 0, 0, 0, 0, 0, 0, 0]], dtype=int64)"
      ]
     },
     "execution_count": 62,
     "metadata": {},
     "output_type": "execute_result"
    }
   ],
   "source": [
    "count_vect.transform(['Something completely new.']).toarray()"
   ]
  },
  {
   "cell_type": "code",
   "execution_count": 66,
   "metadata": {},
   "outputs": [
    {
     "data": {
      "text/plain": [
       "array([[0, 0, 1, 0, 0, 0, 0, 0, 0, 0, 0, 0, 0, 0, 0, 0, 0, 0, 0, 0, 0, 0,\n",
       "        0, 0, 0, 0, 0, 0, 0, 0, 0, 0, 0, 0, 0, 0, 0, 0, 0, 0, 0, 0, 0, 0,\n",
       "        0, 0, 0, 0, 0, 0, 0, 0, 0, 0, 0, 0, 0, 0, 0, 0, 0, 0, 0, 0, 0, 0,\n",
       "        0, 0, 0, 0, 0, 0, 0, 0, 0, 0, 0, 0, 0, 0, 0, 0, 0, 0, 0, 0, 0, 0,\n",
       "        0, 0, 0, 0, 0, 0, 0, 0, 0, 0, 0, 0, 0, 0, 0, 0, 0, 0, 0, 0, 0, 0,\n",
       "        0, 0, 0, 0, 0, 0, 0, 0, 0, 0, 0, 0, 0, 0, 0, 0, 0, 0, 0, 0, 0, 0,\n",
       "        0, 0, 0, 0, 0, 0, 0, 0, 0, 0, 0, 0, 0, 0, 0, 0, 0, 0, 0, 0, 0, 0,\n",
       "        0, 0, 0, 0, 0, 0, 0, 0, 0, 0, 0, 1, 0, 0, 0, 0, 0, 0, 0, 0, 0, 0,\n",
       "        0, 0, 0, 0, 0, 0, 0, 0, 0, 0, 0, 0, 0, 0, 0, 0, 0, 0, 0, 0, 0, 0,\n",
       "        0, 0, 0, 0, 0, 0, 0, 0, 0, 0, 0, 0, 0, 0, 0, 0, 0, 0, 0, 0, 0, 0,\n",
       "        0, 0, 0, 0, 0, 0, 0, 0, 0, 0, 0, 0, 0, 0, 0, 0, 0, 0, 0, 0, 0, 0,\n",
       "        0, 0, 0, 0, 0, 0, 0, 0, 0, 0, 0, 0, 0, 0]], dtype=int64)"
      ]
     },
     "execution_count": 66,
     "metadata": {},
     "output_type": "execute_result"
    }
   ],
   "source": [
    "#the term 12 was detected on the array[2] which is the same as the count_vect.get_feature_names()[2:5] that shows arra[2] = 12\n",
    "\n",
    "count_vect.transform(['12 Something completely new.']).toarray()"
   ]
  },
  {
   "cell_type": "code",
   "execution_count": 67,
   "metadata": {},
   "outputs": [],
   "source": [
    "# first twenty features only\n",
    "plot_x = [\"term_\"+str(i) for i in count_vect.get_feature_names()[0:20]]"
   ]
  },
  {
   "cell_type": "code",
   "execution_count": 68,
   "metadata": {},
   "outputs": [
    {
     "data": {
      "text/plain": [
       "['term_10',\n",
       " 'term_11',\n",
       " 'term_12',\n",
       " 'term_13',\n",
       " 'term_14',\n",
       " 'term_15',\n",
       " 'term_16',\n",
       " 'term_17',\n",
       " 'term_18',\n",
       " 'term_19',\n",
       " 'term_20',\n",
       " 'term_21',\n",
       " 'term_22',\n",
       " 'term_23',\n",
       " 'term_24',\n",
       " 'term_25',\n",
       " 'term_26',\n",
       " 'term_27',\n",
       " 'term_2731',\n",
       " 'term_28']"
      ]
     },
     "execution_count": 68,
     "metadata": {},
     "output_type": "execute_result"
    }
   ],
   "source": [
    "plot_x"
   ]
  },
  {
   "cell_type": "code",
   "execution_count": 70,
   "metadata": {},
   "outputs": [],
   "source": [
    "# obtain document index\n",
    "plot_y = [\"doc_\"+ str(i) for i in list(data_frame.index)[0:20]]"
   ]
  },
  {
   "cell_type": "code",
   "execution_count": 71,
   "metadata": {},
   "outputs": [],
   "source": [
    "plot_z = X_counts[0:20, 0:20].toarray()"
   ]
  },
  {
   "cell_type": "code",
   "execution_count": 72,
   "metadata": {},
   "outputs": [
    {
     "data": {
      "image/png": "[encoded data removed]",
      "text/plain": [
       "<Figure size 648x504 with 2 Axes>"
      ]
     },
     "metadata": {
      "needs_background": "light"
     },
     "output_type": "display_data"
    }
   ],
   "source": [
    "import seaborn as sns\n",
    "\n",
    "df_todraw = pd.DataFrame(plot_z, columns = plot_x, index = plot_y)\n",
    "plt.subplots(figsize=(9, 7))\n",
    "ax = sns.heatmap(df_todraw,\n",
    "                 cmap=\"PuRd\",\n",
    "                 vmin=0, vmax=1, annot=True)"
   ]
  },
  {
   "cell_type": "code",
   "execution_count": 77,
   "metadata": {},
   "outputs": [],
   "source": [
    "# note this takes time to compute. You may want to reduce the amount of terms you want to compute frequencies for\n",
    "term_frequencies = []\n",
    "for j in range(0,X_counts.shape[1]):\n",
    "    term_frequencies.append(sum(X_counts[:,j].toarray()))"
   ]
  },
  {
   "cell_type": "code",
   "execution_count": 78,
   "metadata": {},
   "outputs": [],
   "source": [
    "term_frequencies = np.asarray(X_counts.sum(axis=0))[0]"
   ]
  },
  {
   "cell_type": "code",
   "execution_count": 79,
   "metadata": {},
   "outputs": [
    {
     "data": {
      "text/plain": [
       "1"
      ]
     },
     "execution_count": 79,
     "metadata": {},
     "output_type": "execute_result"
    }
   ],
   "source": [
    "term_frequencies[0]"
   ]
  },
  {
   "cell_type": "code",
   "execution_count": 89,
   "metadata": {},
   "outputs": [
    {
     "data": {
      "image/png": "[encoded data removed]",
      "text/plain": [
       "<Figure size 3600x720 with 1 Axes>"
      ]
     },
     "metadata": {
      "needs_background": "light"
     },
     "output_type": "display_data"
    }
   ],
   "source": [
    "#plot the frequencies of the words\n",
    "#Result: most frequent words are : flavor, food, good, great, it, place, the\n",
    "\n",
    "plt.subplots(figsize=(50, 10))\n",
    "g = sns.barplot(x=count_vect.get_feature_names()[:300], \n",
    "            y=term_frequencies[:300])\n",
    "g.set_xticklabels(count_vect.get_feature_names()[:300], rotation = 90);"
   ]
  },
  {
   "cell_type": "code",
   "execution_count": 93,
   "metadata": {},
   "outputs": [
    {
     "data": {
      "text/plain": [
       "TfidfTransformer(norm='l2', smooth_idf=True, sublinear_tf=False, use_idf=True)"
      ]
     },
     "execution_count": 93,
     "metadata": {},
     "output_type": "execute_result"
    }
   ],
   "source": [
    "from sklearn.feature_extraction.text import TfidfTransformer\n",
    " \n",
    "tfidf_transformer=TfidfTransformer(smooth_idf=True,use_idf=True)\n",
    "tfidf_transformer.fit(X_counts)\n",
    " "
   ]
  },
  {
   "cell_type": "code",
   "execution_count": 130,
   "metadata": {},
   "outputs": [],
   "source": [
    "#start calculating TFIDF\n",
    "\n",
    "bagOfWords = word_tokens"
   ]
  },
  {
   "cell_type": "code",
   "execution_count": 131,
   "metadata": {},
   "outputs": [],
   "source": [
    "uniqueWords = set(bagOfWords)\n"
   ]
  },
  {
   "cell_type": "code",
   "execution_count": 132,
   "metadata": {},
   "outputs": [],
   "source": [
    "numOfWords = dict.fromkeys(uniqueWords, 0)\n",
    "for word in bagOfWords:\n",
    "    numOfWords[word] += 1"
   ]
  },
  {
   "cell_type": "code",
   "execution_count": 133,
   "metadata": {},
   "outputs": [],
   "source": [
    "def computeTF(wordDict, bagOfWords):\n",
    "    tfDict = {}\n",
    "    bagOfWordsCount = len(bagOfWords)\n",
    "    for word, count in wordDict.items():\n",
    "        tfDict[word] = count / float(bagOfWordsCount)\n",
    "    return tfDict"
   ]
  },
  {
   "cell_type": "code",
   "execution_count": 135,
   "metadata": {},
   "outputs": [],
   "source": [
    "tf = computeTF(numOfWords, bagOfWords)"
   ]
  },
  {
   "cell_type": "code",
   "execution_count": 136,
   "metadata": {},
   "outputs": [],
   "source": [
    "def computeIDF(documents):\n",
    "    import math\n",
    "    N = len(documents)\n",
    "    \n",
    "    idfDict = dict.fromkeys(documents[0].keys(), 0)\n",
    "    for document in documents:\n",
    "        for word, val in document.items():\n",
    "            if val > 0:\n",
    "                idfDict[word] += 1\n",
    "    \n",
    "    for word, val in idfDict.items():\n",
    "        idfDict[word] = math.log(N / float(val))\n",
    "    return idfDict"
   ]
  },
  {
   "cell_type": "code",
   "execution_count": 137,
   "metadata": {},
   "outputs": [],
   "source": [
    "idfs = computeIDF([numOfWords])"
   ]
  },
  {
   "cell_type": "code",
   "execution_count": 138,
   "metadata": {},
   "outputs": [],
   "source": [
    "def computeTFIDF(tfBagOfWords, idfs):\n",
    "    tfidf = {}\n",
    "    for word, val in tfBagOfWords.items():\n",
    "        tfidf[word] = val * idfs[word]\n",
    "    return tfidf"
   ]
  },
  {
   "cell_type": "code",
   "execution_count": 147,
   "metadata": {},
   "outputs": [],
   "source": [
    "tfidf = computeTFIDF(tf, idfs)\n",
    "df = pd.DataFrame([tfidf])"
   ]
  },
  {
   "cell_type": "code",
   "execution_count": 151,
   "metadata": {},
   "outputs": [
    {
     "data": {
      "text/html": [
       "<div>\n",
       "<style scoped>\n",
       "    .dataframe tbody tr th:only-of-type {\n",
       "        vertical-align: middle;\n",
       "    }\n",
       "\n",
       "    .dataframe tbody tr th {\n",
       "        vertical-align: top;\n",
       "    }\n",
       "\n",
       "    .dataframe thead th {\n",
       "        text-align: right;\n",
       "    }\n",
       "</style>\n",
       "<table border=\"1\" class=\"dataframe\">\n",
       "  <thead>\n",
       "    <tr style=\"text-align: right;\">\n",
       "      <th></th>\n",
       "      <th>!</th>\n",
       "      <th>$</th>\n",
       "      <th>''</th>\n",
       "      <th>'s</th>\n",
       "      <th>'ve</th>\n",
       "      <th>(</th>\n",
       "      <th>,</th>\n",
       "      <th>.</th>\n",
       "      <th>...</th>\n",
       "      <th>.off</th>\n",
       "      <th>...</th>\n",
       "      <th>what</th>\n",
       "      <th>when</th>\n",
       "      <th>which</th>\n",
       "      <th>who</th>\n",
       "      <th>whole</th>\n",
       "      <th>with</th>\n",
       "      <th>would</th>\n",
       "      <th>yet</th>\n",
       "      <th>you</th>\n",
       "      <th>your</th>\n",
       "    </tr>\n",
       "  </thead>\n",
       "  <tbody>\n",
       "    <tr>\n",
       "      <th>0</th>\n",
       "      <td>0.0</td>\n",
       "      <td>0.0</td>\n",
       "      <td>0.0</td>\n",
       "      <td>0.0</td>\n",
       "      <td>0.0</td>\n",
       "      <td>0.0</td>\n",
       "      <td>0.0</td>\n",
       "      <td>0.0</td>\n",
       "      <td>0.0</td>\n",
       "      <td>0.0</td>\n",
       "      <td>...</td>\n",
       "      <td>0.0</td>\n",
       "      <td>0.0</td>\n",
       "      <td>0.0</td>\n",
       "      <td>0.0</td>\n",
       "      <td>0.0</td>\n",
       "      <td>0.0</td>\n",
       "      <td>0.0</td>\n",
       "      <td>0.0</td>\n",
       "      <td>0.0</td>\n",
       "      <td>0.0</td>\n",
       "    </tr>\n",
       "  </tbody>\n",
       "</table>\n",
       "<p>1 rows × 351 columns</p>\n",
       "</div>"
      ],
      "text/plain": [
       "     !    $   ''   's  've    (    ,    .  ...  .off  ...  what  when  which  \\\n",
       "0  0.0  0.0  0.0  0.0  0.0  0.0  0.0  0.0  0.0   0.0  ...   0.0   0.0    0.0   \n",
       "\n",
       "   who  whole  with  would  yet  you  your  \n",
       "0  0.0    0.0   0.0    0.0  0.0  0.0   0.0  \n",
       "\n",
       "[1 rows x 351 columns]"
      ]
     },
     "execution_count": 151,
     "metadata": {},
     "output_type": "execute_result"
    }
   ],
   "source": [
    "df"
   ]
  },
  {
   "cell_type": "code",
   "execution_count": null,
   "metadata": {},
   "outputs": [],
   "source": []
  }
 ],
 "metadata": {
  "kernelspec": {
   "display_name": "Python 3",
   "language": "python",
   "name": "python3"
  },
  "language_info": {
   "codemirror_mode": {
    "name": "ipython",
    "version": 3
   },
   "file_extension": ".py",
   "mimetype": "text/x-python",
   "name": "python",
   "nbconvert_exporter": "python",
   "pygments_lexer": "ipython3",
   "version": "3.7.3"
  }
 },
 "nbformat": 4,
 "nbformat_minor": 2
}
